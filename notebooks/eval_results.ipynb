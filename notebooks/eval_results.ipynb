{
 "cells": [
  {
   "cell_type": "code",
   "execution_count": null,
   "metadata": {},
   "outputs": [],
   "source": [
    "import wandb\n",
    "import pandas as pd\n",
    "import json"
   ]
  },
  {
   "cell_type": "code",
   "execution_count": null,
   "metadata": {},
   "outputs": [],
   "source": [
    "run_id = \"7dbxqi0s\""
   ]
  },
  {
   "cell_type": "code",
   "execution_count": null,
   "metadata": {},
   "outputs": [],
   "source": [
    "# Download the evaluation results\n",
    "api = wandb.Api()\n",
    "art_dir = api.artifact(f\"r-pad/online_adaptation/run-{run_id}-train_metric_table:v0\").download()\n",
    "\n",
    "# # Get the run-7dbxqi0s-train_metric_table:v0 artifact\n",
    "# artifact = run.use_artifact(f\"r-pad/online_adaptation/run-{run_id}-train_metric_table:v0\")\n",
    "# artifact_dir = artifact.download()\n",
    "\n",
    "# Load the evaluation results\n",
    "with open(artifact_dir) as file:\n",
    "    json_dict = json.load(file)\n",
    "df = pd.DataFrame(json_dict[\"data\"], columns=json_dict[\"columns\"])\n",
    "\n",
    "\n"
   ]
  },
  {
   "cell_type": "code",
   "execution_count": null,
   "metadata": {},
   "outputs": [],
   "source": [
    "art"
   ]
  },
  {
   "cell_type": "code",
   "execution_count": null,
   "metadata": {},
   "outputs": [],
   "source": []
  }
 ],
 "metadata": {
  "kernelspec": {
   "display_name": "oa",
   "language": "python",
   "name": "python3"
  },
  "language_info": {
   "codemirror_mode": {
    "name": "ipython",
    "version": 3
   },
   "file_extension": ".py",
   "mimetype": "text/x-python",
   "name": "python",
   "nbconvert_exporter": "python",
   "pygments_lexer": "ipython3",
   "version": "3.8.13"
  }
 },
 "nbformat": 4,
 "nbformat_minor": 2
}
